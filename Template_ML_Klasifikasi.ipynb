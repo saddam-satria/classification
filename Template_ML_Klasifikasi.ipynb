{
  "nbformat": 4,
  "nbformat_minor": 0,
  "metadata": {
    "colab": {
      "name": "Template ML Klasifikasi",
      "provenance": [],
      "collapsed_sections": [
        "wEP3KQqGForc",
        "IJcg7bu4vVUK",
        "Evz4aM31pRo9",
        "M8XbynjsvwFV",
        "XA64dKaD0RwY",
        "nnImd9PBOb2V",
        "lry8Fe71nJsA",
        "AKreM_qW1-gq",
        "HoDekrY72D0G",
        "q-hGlqMQl7Qd",
        "QXZqeM-6pYjt",
        "G5chpach2eJO",
        "ZGBcI-Rn11Vy",
        "RlQonshCv47Q"
      ],
      "authorship_tag": "ABX9TyNyCxDaJ3uP6jO6CwEL6222",
      "include_colab_link": true
    },
    "kernelspec": {
      "name": "python3",
      "display_name": "Python 3"
    }
  },
  "cells": [
    {
      "cell_type": "markdown",
      "metadata": {
        "id": "view-in-github",
        "colab_type": "text"
      },
      "source": [
        "<a href=\"https://colab.research.google.com/github/saddam-satria/classification/blob/main/Template_ML_Klasifikasi.ipynb\" target=\"_parent\"><img src=\"https://colab.research.google.com/assets/colab-badge.svg\" alt=\"Open In Colab\"/></a>"
      ]
    },
    {
      "cell_type": "markdown",
      "metadata": {
        "id": "wEP3KQqGForc"
      },
      "source": [
        "# Template Klasifikasi V.01\n",
        " \n",
        "* Digunakan untuk Klasifikasi bukan regresi\n",
        "*Jalankan baris script yang dibutuhkan saja tidak perlu semua dijalankan\n",
        "* Template bukan untuk belajar proses machine learning, hanya untuk membantu proses machine learning."
      ]
    },
    {
      "cell_type": "markdown",
      "metadata": {
        "id": "IJcg7bu4vVUK"
      },
      "source": [
        "\n",
        "### Import Package "
      ]
    },
    {
      "cell_type": "markdown",
      "metadata": {
        "id": "aeSDN-Vssxii"
      },
      "source": [
        "Wajib di jalankan !"
      ]
    },
    {
      "cell_type": "code",
      "metadata": {
        "id": "NGIATt2Ksrqk"
      },
      "source": [
        "!pip install jcopml"
      ],
      "execution_count": null,
      "outputs": []
    },
    {
      "cell_type": "code",
      "metadata": {
        "id": "4pKwgUy4spQ3"
      },
      "source": [
        "#tanda \"\" bukan script, melainkan penjelasan\n",
        "#\"library sudah disesuaikan dengan machine learning\"\n",
        " \n",
        "import pandas as pd #manipulasi data, data table\n",
        "import numpy as np #reshape array,linear algebra\n",
        "import seaborn as sns #membuat plot\n",
        "import matplotlib.pyplot as plt #membuat plot\n",
        "import os #mengatur isi file direktori komputer (terminal)\n",
        "from google.colab import files #upload file\n",
        "import io #membaca file\n",
        "from sklearn.datasets import load_iris,load_boston\n",
        " \n",
        " \n",
        "#\"sklearn\"\n",
        "#\"library sudah disesuaikan jadi tidak perlu di hapus\"\n",
        " \n",
        "from sklearn.model_selection import train_test_split, GridSearchCV, RandomizedSearchCV,cross_val_score\n",
        "from sklearn.preprocessing import StandardScaler,MinMaxScaler,RobustScaler,PowerTransformer,PolynomialFeatures,OneHotEncoder\n",
        "from sklearn.pipeline import Pipeline\n",
        "from sklearn.compose import ColumnTransformer\n",
        "from sklearn.impute import SimpleImputer\n",
        " \n",
        "#\"Algoritma, hapus # jika ingin menggunakan algoritma\"\n",
        " \n",
        "#from sklearn.ensemble import RandomForestClassifier\n",
        "#from sklearn.neighbors import KNeighborsClassifier\n",
        "#from sklearn.svm import SVC\n",
        "#from sklearn.tree import DecisionTreeClassifier\n",
        " \n",
        "#\"Matrix\"\n",
        "#\"Opsional library untuk melihat matrix score Dan matrix false - +\"\n",
        "#\"Hapus # jika ingin menggunakan\"\n",
        " \n",
        "#from sklearn.metrics import accuracy_score,confusion_matrix\n",
        " \n",
        " \n",
        "#\"jcopml\"\n",
        "#\"library yang dibuat oleh JCOp untuk Indonesia\" \n",
        "#\"hapus # jika ingin menggunakannya\"\n",
        " \n",
        "from jcopml.plot import plot_missing_value\n",
        "from jcopml.feature_importance import mean_score_decrease\n",
        "from jcopml.plot import plot_confusion_matrix,plot_association_matrix,plot_roc_curve,plot_pr_curve\n",
        "#from jcopml.tuning import random_search_params as rsp\n",
        "#from jcopml.tuning import grid_search_params as gsp\n",
        " \n",
        " \n",
        "print(\"-\"*2,\"Template by Saddam Satria\",\"-\"*2,\"\\n\")\n",
        "print(\"Library berhasil di import\")\n",
        "print(\"Selamat Mencoba, Terima Kasih\\n\")\n",
        "print(\"-\"*4,\"Copy Right ©2020 V.01\",\"-\"*4)"
      ],
      "execution_count": null,
      "outputs": []
    },
    {
      "cell_type": "markdown",
      "metadata": {
        "id": "Evz4aM31pRo9"
      },
      "source": [
        "###Load Dummy data"
      ]
    },
    {
      "cell_type": "markdown",
      "metadata": {
        "id": "Cg6u4bZwpd1P"
      },
      "source": [
        "Iris dataset"
      ]
    },
    {
      "cell_type": "code",
      "metadata": {
        "id": "lgz8snsepika"
      },
      "source": [
        "def iris_dataset():\n",
        "    dataset = load_iris()\n",
        "    global df\n",
        "    df= pd.DataFrame(dataset.data,columns=dataset.feature_names)\n",
        "    df['jenis bunga']= list(map(lambda x: dataset.target_names[x],dataset.target))\n",
        "    return df.head()\n",
        "iris_dataset()"
      ],
      "execution_count": null,
      "outputs": []
    },
    {
      "cell_type": "markdown",
      "metadata": {
        "id": "M8XbynjsvwFV"
      },
      "source": [
        "### Load Data"
      ]
    },
    {
      "cell_type": "markdown",
      "metadata": {
        "id": "lEnt6lzfgxhC"
      },
      "source": [
        "Fungsi load data digunakan untuk memanggil data dari local komputer, data harus berekstensi .csv"
      ]
    },
    {
      "cell_type": "code",
      "metadata": {
        "id": "pizWOwi3tqVs"
      },
      "source": [
        "def load_data():\n",
        "    file = files.upload()\n",
        "    filename = file.keys()\n",
        "    for i in (filename):\n",
        "      global df\n",
        "      df = pd.read_csv(io.BytesIO(file[i]))\n",
        "    return df.head()\n",
        " \n",
        "load_data()"
      ],
      "execution_count": null,
      "outputs": []
    },
    {
      "cell_type": "markdown",
      "metadata": {
        "id": "XA64dKaD0RwY"
      },
      "source": [
        "### Missing Value"
      ]
    },
    {
      "cell_type": "markdown",
      "metadata": {
        "id": "6yBstOSxg6Pv"
      },
      "source": [
        "Pengecekan jumlah data yang hilang pada setiap kolom"
      ]
    },
    {
      "cell_type": "code",
      "metadata": {
        "id": "KB1Ao0tewt4s"
      },
      "source": [
        "def missing_value(df):\n",
        "  plot_missing_value(df, figsize=(8,8))\n",
        "  return df.isna().sum()\n",
        "missing_value(df)"
      ],
      "execution_count": null,
      "outputs": []
    },
    {
      "cell_type": "markdown",
      "metadata": {
        "id": "nnImd9PBOb2V"
      },
      "source": [
        "###Drop Columns"
      ]
    },
    {
      "cell_type": "markdown",
      "metadata": {
        "id": "j7FLv-Ubg_7K"
      },
      "source": [
        " Note:\n",
        " \n",
        "* Fungsi dibuat untuk sekali pakai saja, jika ingin digunakan lagi, hapus nama kolom yang sebelumnya sudah di hapus"
      ]
    },
    {
      "cell_type": "code",
      "metadata": {
        "id": "fEHA1IqbOhUD"
      },
      "source": [
        "def remove_columns(kolom):\n",
        "          df.drop(columns=kolom,inplace=True)\n",
        "          print (\"Kolom berhasil di hapus\")\n",
        "          return df.head()\n",
        "remove_columns(kolom=[''])"
      ],
      "execution_count": null,
      "outputs": []
    },
    {
      "cell_type": "markdown",
      "metadata": {
        "id": "lry8Fe71nJsA"
      },
      "source": [
        "###EDA"
      ]
    },
    {
      "cell_type": "markdown",
      "metadata": {
        "id": "5zL0Su4S4fy-"
      },
      "source": [
        "Plotting"
      ]
    },
    {
      "cell_type": "markdown",
      "metadata": {
        "id": "xgk52UbrhYcY"
      },
      "source": [
        "Membuat grafik\n",
        " \n",
        "* Defaultnya adalah 2 baris 2 kolom, jika ingin di ganti, ganti pada script subplots()\n",
        " \n",
        "* Cara menambahkan grafik baru adalah menulis syntax axes[0,0] = diikuti dengan script pemanggilan plot\n",
        "Ex: Axes[0,0] menunjukan baris ke 1, kolom ke 1"
      ]
    },
    {
      "cell_type": "code",
      "metadata": {
        "id": "3XkrCnIrPTKC"
      },
      "source": [
        "fig, axes = plt.subplots(2, 2, sharex=False, figsize=(20,14))\n",
        "fig.suptitle('2 baris 2 kolom')\n",
        " \n",
        " \n",
        "axes[0,1]= sns.scatterplot(data=df)"
      ],
      "execution_count": null,
      "outputs": []
    },
    {
      "cell_type": "markdown",
      "metadata": {
        "id": "rXhOpD62nWWZ"
      },
      "source": [
        "Binning\n",
        " \n",
        "* Membuat rentang pada kolom tertentu, sehingga data numerik menjadi kategori\n",
        "* Sekali pakai saja, jika ingin yang baru lagi, hapus nama kolom,bins,label sebelumnya dengan yang baru"
      ]
    },
    {
      "cell_type": "code",
      "metadata": {
        "id": "dVXcPQ2Gniu6"
      },
      "source": [
        "df[''] = pd.cut(df[''],bins=[],labels=[])\n",
        "df.head()"
      ],
      "execution_count": null,
      "outputs": []
    },
    {
      "cell_type": "markdown",
      "metadata": {
        "id": "sxYQXRnDnqW2"
      },
      "source": [
        "Silahkan analisa data untuk meningkatkan peforma model"
      ]
    },
    {
      "cell_type": "code",
      "metadata": {
        "id": "01x9l1JqnwKB"
      },
      "source": [
        ""
      ],
      "execution_count": null,
      "outputs": []
    },
    {
      "cell_type": "code",
      "metadata": {
        "id": "XeIwaqAjnwSu"
      },
      "source": [
        ""
      ],
      "execution_count": null,
      "outputs": []
    },
    {
      "cell_type": "markdown",
      "metadata": {
        "id": "AKreM_qW1-gq"
      },
      "source": [
        "### x dan y"
      ]
    },
    {
      "cell_type": "markdown",
      "metadata": {
        "id": "_i9JhY7XiYgg"
      },
      "source": [
        "* kolom x yang kosong isi dengan nama kolom y\n",
        "* \n",
        "Kolom y yang kosong isi dengan nama kolom y"
      ]
    },
    {
      "cell_type": "code",
      "metadata": {
        "id": "kcV2Td2EzWP_"
      },
      "source": [
        "x = df.drop(columns=[''])\n",
        "y = df['']"
      ],
      "execution_count": 69,
      "outputs": []
    },
    {
      "cell_type": "code",
      "metadata": {
        "id": "ep0IK-St2G6e"
      },
      "source": [
        "x.head()"
      ],
      "execution_count": null,
      "outputs": []
    },
    {
      "cell_type": "code",
      "metadata": {
        "id": "Gk-vMuK02JJN"
      },
      "source": [
        "y.head()"
      ],
      "execution_count": null,
      "outputs": []
    },
    {
      "cell_type": "markdown",
      "metadata": {
        "id": "HoDekrY72D0G"
      },
      "source": [
        "### Splitting Data\n"
      ]
    },
    {
      "cell_type": "markdown",
      "metadata": {
        "id": "kR0vLYGwib-S"
      },
      "source": [
        "* atur ukuruan testing size, train size akan menyesuaikan"
      ]
    },
    {
      "cell_type": "code",
      "metadata": {
        "id": "rE-MVyhM1Aof"
      },
      "source": [
        "def split_data(x,y,size):\n",
        "  global xTr,xTs,yTr,yTs\n",
        "  xTr,xTs,yTr,yTs = train_test_split(x,y, test_size=size/100)\n",
        "  print(\"Data Berhasil Di splitting\")\n",
        "  print(\"Train:\",(len(xTr)))\n",
        "  print(\"Test:\",(len(xTs)))\n",
        "  return xTr.shape,xTs.shape,yTr.shape,yTs.shape\n",
        " \n",
        "split_data(x,y,size=20)#atur size disni"
      ],
      "execution_count": null,
      "outputs": []
    },
    {
      "cell_type": "markdown",
      "metadata": {
        "id": "q-hGlqMQl7Qd"
      },
      "source": [
        "### Preprocessing pipeline"
      ]
    },
    {
      "cell_type": "markdown",
      "metadata": {
        "id": "Qe54t42ximVM"
      },
      "source": [
        "Scaling data, Encode data kategorik, Dan penentuan algoritma, mengisi data yang hilang menggunakan pipeline"
      ]
    },
    {
      "cell_type": "code",
      "metadata": {
        "id": "6keWCY5zPml5"
      },
      "source": [
        " \n",
        "#Numerik pipeline untuk data numerik \n",
        "#untuk ganti method scale, tinggal ganti StandardScaler() menjadi scale yang lain\n",
        "#impute untuk mengisi data yang kosong, terdapat 2 cara yaitu median dan mean, Silahkan ganti \n",
        " \n",
        "num_pip = Pipeline([\n",
        "                    (\"Impute\", SimpleImputer(strategy=\"mean\")),#ganti strategy mean/median\n",
        "                    (\"Scale\", StandardScaler())#ganti method scaler\n",
        " \n",
        "                  ])\n",
        " \n",
        "#Kategorik Pipeline untuk data kategorik\n",
        " \n",
        "cat_pip = Pipeline([\n",
        "                    (\"Impute\", SimpleImputer(strategy='most_frequent')),\n",
        "                    (\"OneHotEncode\", OneHotEncoder())\n",
        " \n",
        "                  ])\n",
        " \n",
        "#penyeleksian kolom berdasarkan tipe kolomnya\n",
        "#isi bagian [\"\"] untuk menentukan kolom yang ingin digunakan\n",
        " \n",
        "preprocess = ColumnTransformer([\n",
        "                                (\"numerik\",num_pip,['']),#isi dengan nama kolom\n",
        "                                (\"kategorik\",cat_pip,[''])#isi dengan nama kolom\n",
        " \n",
        "                              ])\n",
        " \n",
        "#Ganti algoritma pada baris model\n",
        " \n",
        "pipeline = Pipeline([\n",
        "                     (\"prep\", preprocess),\n",
        "                     (\"model\", RandomForestClassifier(n_jobs=-1,verbose=2))#ganti algorithm disini\n",
        " \n",
        "                    ])\n",
        " \n",
        "print(\"Successful\")"
      ],
      "execution_count": null,
      "outputs": []
    },
    {
      "cell_type": "markdown",
      "metadata": {
        "id": "QXZqeM-6pYjt"
      },
      "source": [
        "### tunning hyperparameter"
      ]
    },
    {
      "cell_type": "markdown",
      "metadata": {
        "id": "w5tv-M_bkEPu"
      },
      "source": [
        "Jalankan fungsi modeling"
      ]
    },
    {
      "cell_type": "code",
      "metadata": {
        "id": "bTUMUXgjnpSN"
      },
      "source": [
        "def modeling(xTr,yTr,xTs,yTs,model):\n",
        "  model.fit(xTr,yTr)\n",
        "  print(model.best_params_)\n",
        "  column = [[\"Best Validation Score\", model.best_score_],[\"Train Score\",model.score(xTr,yTr)],[\"Test Score\",model.score(xTs,yTs)]]\n",
        "  df = pd.DataFrame(column,columns=['Tipe','Hasil'])\n",
        "  if (model.score(xTr,yTr)) >= 0.95:\n",
        "    print(\"Overfitting\")\n",
        "  elif (model.score(xTr,yTr)) <= 0.65:\n",
        "    print(\"Underfitting\")\n",
        "  return df\n",
        " \n",
        "print(\"Fungsi berhasil di jalankan\")"
      ],
      "execution_count": null,
      "outputs": []
    },
    {
      "cell_type": "markdown",
      "metadata": {
        "id": "NCz0nkUSkL75"
      },
      "source": [
        "Isi parameter yang ingin di iterasi"
      ]
    },
    {
      "cell_type": "code",
      "metadata": {
        "id": "uMiyoH10paeL"
      },
      "source": [
        "parameters = {\n",
        "   \"model__\": ,\n",
        "}"
      ],
      "execution_count": null,
      "outputs": []
    },
    {
      "cell_type": "markdown",
      "metadata": {
        "id": "s_azWWD4ddr_"
      },
      "source": [
        "Jalankan tunning (Grid, Random, Robust)\n",
        "* Ganti pada variabel model, jika ingin menggunakan metode yang lain"
      ]
    },
    {
      "cell_type": "code",
      "metadata": {
        "id": "czUURTG20aCR"
      },
      "source": [
        "model = RandomizedSearchCV(pipeline, parameters,cv=3,n_iter=50,n_jobs=-1,verbose=1)\n",
        "modeling(xTr,yTr,xTs,yTs,model)"
      ],
      "execution_count": null,
      "outputs": []
    },
    {
      "cell_type": "markdown",
      "metadata": {
        "id": "G5chpach2eJO"
      },
      "source": [
        "###Table Hasil Iterasi"
      ]
    },
    {
      "cell_type": "markdown",
      "metadata": {
        "id": "xWfaK70fkaPS"
      },
      "source": [
        "Table Hasil percobaan tunning"
      ]
    },
    {
      "cell_type": "code",
      "metadata": {
        "id": "FAPEN6Ug2YCR"
      },
      "source": [
        "result = pd.DataFrame(model.cv_results_)\n",
        "result.head()"
      ],
      "execution_count": null,
      "outputs": []
    },
    {
      "cell_type": "markdown",
      "metadata": {
        "id": "ZGBcI-Rn11Vy"
      },
      "source": [
        "###Plotting Iterasi (Opsional)"
      ]
    },
    {
      "cell_type": "markdown",
      "metadata": {
        "id": "EsiVrG1fkeDI"
      },
      "source": [
        "Plotting untuk melihat validasi score tiap iterasi"
      ]
    },
    {
      "cell_type": "code",
      "metadata": {
        "id": "BGvgeLmo17wV"
      },
      "source": [
        "def plot_cv_results(cv_results, param_x, param_z, metric='mean_test_score'):\n",
        "    \"\"\"\n",
        "    cv_results - cv_results_ attribute of a GridSearchCV instance (or similar)\n",
        "    param_x - name of grid search parameter to plot on x axis\n",
        "    param_z - name of grid search parameter to plot by line color\n",
        "    \"\"\"\n",
        "    cv_results = pd.DataFrame(cv_results)\n",
        "    col_x = 'param_' + param_x\n",
        "    col_z = 'param_' + param_z\n",
        "    fig, ax = plt.subplots(1, 1, figsize=(11, 8))\n",
        "    sns.pointplot(x=col_x, y=metric, hue=col_z, data=cv_results, ci=99, n_boot=64, ax=ax)\n",
        "    ax.set_title(\"CV Grid Search Results\")\n",
        "    ax.set_xlabel(param_x)\n",
        "    ax.set_ylabel(metric)\n",
        "    ax.legend(title=param_z)\n",
        "    return fig\n",
        "plot_cv_results(model.cv_results_,'N_Estimator','Gamma')"
      ],
      "execution_count": null,
      "outputs": []
    },
    {
      "cell_type": "markdown",
      "metadata": {
        "id": "RlQonshCv47Q"
      },
      "source": [
        "### Evaluasi"
      ]
    },
    {
      "cell_type": "markdown",
      "metadata": {
        "id": "vzpCnLwikn90"
      },
      "source": [
        "* Hasil dari pemodelan berupa matrix confusion\n",
        "* Plot roc, pr opsional, jika ingin menggunakannya hapus #"
      ]
    },
    {
      "cell_type": "code",
      "metadata": {
        "id": "G7JajfXbqsd1"
      },
      "source": [
        "def plot_klasifikasi(xTr,yTr,xTs,yTs,model):\n",
        "    plot_confusion_matrix(xTr,yTr,xTs,yTs,model)\n",
        "    #plot_pr_curve(xTr,yTr,xTs,yTs,model)\n",
        "    #plot_roc_curve(xTr,yTr,xTs,yTs,model)\n",
        "plot_klasifikasi(xTr,yTr,xTs,yTs,model)"
      ],
      "execution_count": null,
      "outputs": []
    },
    {
      "cell_type": "markdown",
      "metadata": {
        "id": "NCEIpAVn50Af"
      },
      "source": [
        "#### Feature Importance"
      ]
    },
    {
      "cell_type": "markdown",
      "metadata": {
        "id": "WuHiCfMIlmnO"
      },
      "source": [
        "Melihat kolom yang mempengaruhi peforma model"
      ]
    },
    {
      "cell_type": "code",
      "metadata": {
        "id": "xk5v9fH6525i"
      },
      "source": [
        "df_imp = mean_score_decrease(xTr,yTr,model,plot=True,topk=10)"
      ],
      "execution_count": null,
      "outputs": []
    }
  ]
}