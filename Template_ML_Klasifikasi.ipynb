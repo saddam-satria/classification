{
  "nbformat": 4,
  "nbformat_minor": 0,
  "metadata": {
    "colab": {
      "name": "Template ML Klasifikasi",
      "provenance": [],
      "collapsed_sections": [],
      "authorship_tag": "ABX9TyP8fi6crsXg0J12pYke0Hgb",
      "include_colab_link": true
    },
    "kernelspec": {
      "name": "python3",
      "display_name": "Python 3"
    }
  },
  "cells": [
    {
      "cell_type": "markdown",
      "metadata": {
        "id": "view-in-github",
        "colab_type": "text"
      },
      "source": [
        "<a href=\"https://colab.research.google.com/github/saddam-satria/classification/blob/main/Template_ML_Klasifikasi.ipynb\" target=\"_parent\"><img src=\"https://colab.research.google.com/assets/colab-badge.svg\" alt=\"Open In Colab\"/></a>"
      ]
    },
    {
      "cell_type": "markdown",
      "metadata": {
        "id": "wEP3KQqGForc"
      },
      "source": [
        "# Template Klasifikasi v1 by Saddam Satria Ardhi \n",
        "Digunakan untuk Klasifikasi bukan regresi\n"
      ]
    },
    {
      "cell_type": "markdown",
      "metadata": {
        "id": "0UiTx3rFF5OG"
      },
      "source": [
        "Cara pakai\n",
        "*   Import Package hapus tanda # di bagian paling pertama (!pip)\n",
        "*   List item\n",
        "*   Pemilihin Algoritma di import package, tinggal hapus # \n",
        "*   Untuk Load data, pilih file train.csv/dataset.csv\n",
        "*   Untuk penggunaan penghapusan kolom, karena dia inplace, cukup run sekali \n",
        "maka kolom sudah terhapus, jika ingin menghapus kolom baru lagi jangan gunakan yang itu, melainkan copas yang baru, lalu isi nama kolom yang ingin dihapus\n",
        "*   Untuk plotting isi sendiri variabel x dan y nya yang ingin kalian plot, jika tidak digunakan, jangan di run, pasti error, nanti panik lagi\n",
        "*   tentukan variabel fitur dan target sendiri, fitur adalah x, target adalah y\n",
        "*   untuk splitting data, atur size nya saja, contoh size = 20, artinya 20% data test\n",
        "*   bagian Preprocessing, terdapat [] kosong silahkan isi menggunakan string '', pada bagian tersebut sesuaikan dengan kolom kalian, numerik = kolom yang angka, kategorik = kolom yang biasanya huruf\n",
        "* parameters abaikan saja, jika kalian tidak tahu kegunaannya, jika kalian tahu silahkan isi dengan baik dan benar (dictionary)\n",
        "* cara mengganti algoritma adalah mengganti nama pada tulisan \"model\",RandomForestClassifier(), ganti randomforestnya saja \"model\" tidak perlu di ganti\n",
        "* jika algoritma kalian ganti maka sesuaikan parameters tadi dengan algoritma kalian, disini ada 2 default parameters dari JCOp untuk Indonesia yaitu gsp dan rsp, gunakan gsp jika kalian menggunakan gridsearchcv, rsp untuk randomizedsearchcv, sesuaikan dengan algoritma kalian rsp.rf_params adalah untuk randomforest paramaters, jika ingin menggunakan yang lain maka ganti rfnya saja atau jika ingin menggunakan grid maka menjadi gsp.rf_params\n",
        "* hasil evaluasi berupa confusion matrix(false - false +) pelajari cara membacanya\n",
        "* terdapat baris feature importance, artinya fitur yang mempengaruhi pengurangan score kalian\n",
        "* Binning isi kolom [''] dengan kolom kalian yang ingin di bining, binds adalah rentang binningnya[0-100] dan labels adalah label dari hasil rentang binningnya, ex: bins[0,12], labels['balita'] artinya 0-12 adalah balita\n",
        "* Untuk EDA silahkan gunakan section EDA, tidak ada template untuk EDA, karena EDA hasil analisa kalian   \n",
        "\n"
      ]
    },
    {
      "cell_type": "markdown",
      "metadata": {
        "id": "IJcg7bu4vVUK"
      },
      "source": [
        "\n",
        "### Import Package "
      ]
    },
    {
      "cell_type": "code",
      "metadata": {
        "id": "4pKwgUy4spQ3"
      },
      "source": [
        "#!pip install jcopml <- hapus tanda # sebelum menjalankan\n",
        "\n",
        "import pandas as pd\n",
        "import numpy as np\n",
        "import seaborn as sns\n",
        "import matplotlib.pyplot as plt\n",
        "import os\n",
        "from google.colab import files\n",
        "import io\n",
        "\n",
        "#sklearn\n",
        "from sklearn.model_selection import train_test_split, GridSearchCV, RandomizedSearchCV\n",
        "from sklearn.preprocessing import StandardScaler,MinMaxScaler,RobustScaler,PowerTransformer,PolynomialFeatures,OneHotEncoder\n",
        "from sklearn.pipeline import Pipeline\n",
        "from sklearn.compose import ColumnTransformer\n",
        "from sklearn.impute import SimpleImputer\n",
        "\n",
        "#Algoritma\n",
        "from sklearn.ensemble import RandomForestClassifier\n",
        "#from sklearn.neighbors import KNeighborsClassifier\n",
        "#from sklearn.svm import SVC\n",
        "#from sklearn.tree import DecisionTreeClassifier\n",
        "\n",
        "\n",
        "#Klasifikasi (hapus tanda #)\n",
        "from sklearn.metrics import accuracy_score,confusion_matrix\n",
        "\n",
        "\n",
        "#jcopml\n",
        "from jcopml.plot import plot_missing_value\n",
        "from jcopml.feature_importance import mean_score_decrease\n",
        "from jcopml.tuning import random_search_params as rsp\n",
        "from jcopml.tuning import grid_search_params as gsp\n",
        "#Klasifikasi (Hapus tanda #)\n",
        "from jcopml.plot import plot_confusion_matrix,plot_association_matrix,plot_roc_curve,plot_pr_curve\n",
        "\n"
      ],
      "execution_count": null,
      "outputs": []
    },
    {
      "cell_type": "markdown",
      "metadata": {
        "id": "M8XbynjsvwFV"
      },
      "source": [
        "### Load Data \n"
      ]
    },
    {
      "cell_type": "code",
      "metadata": {
        "id": "pizWOwi3tqVs"
      },
      "source": [
        "def load_data():\n",
        "    file = files.upload()\n",
        "    filename = file.keys()\n",
        "    for i in (filename):\n",
        "      global df\n",
        "      df = pd.read_csv(io.BytesIO(file[i]),index_col='PassengerId')\n",
        "    return df.head()\n",
        "\n",
        "load_data()"
      ],
      "execution_count": null,
      "outputs": []
    },
    {
      "cell_type": "markdown",
      "metadata": {
        "id": "XA64dKaD0RwY"
      },
      "source": [
        "### Missing Value"
      ]
    },
    {
      "cell_type": "code",
      "metadata": {
        "id": "KB1Ao0tewt4s"
      },
      "source": [
        "def missing_value(df):\n",
        "  plot_missing_value(df, figsize=(8,8))\n",
        "  return df.isna().sum()\n",
        "missing_value(df)"
      ],
      "execution_count": null,
      "outputs": []
    },
    {
      "cell_type": "markdown",
      "metadata": {
        "id": "nnImd9PBOb2V"
      },
      "source": [
        "### Drop Columns"
      ]
    },
    {
      "cell_type": "code",
      "metadata": {
        "id": "fEHA1IqbOhUD"
      },
      "source": [
        "def remove_columns(kolom):\n",
        "          df.drop(columns=kolom,inplace=True)\n",
        "          return df.head()\n",
        "remove_columns(kolom=[''])"
      ],
      "execution_count": null,
      "outputs": []
    },
    {
      "cell_type": "markdown",
      "metadata": {
        "id": "5zL0Su4S4fy-"
      },
      "source": [
        "### Plotting"
      ]
    },
    {
      "cell_type": "code",
      "metadata": {
        "id": "3XkrCnIrPTKC"
      },
      "source": [
        "def plotting(x,y):\n",
        "    fig, axes = plt.subplots(2, 3, sharex=False, figsize=(20,14))\n",
        "    fig.suptitle('2 baris 2 kolom')\n",
        "\n",
        "    sns.scatterplot(ax=axes[0,0],data=df,x=x,y=y)\n",
        "    sns.histplot(ax=axes[0,1], data=df,x=x,y=y)\n",
        "    sns.countplot(ax=axes[0,2], data=df,x=x)\n",
        "    sns.scatterplot(ax=axes[1,0],data=df,x=x,y=y)\n",
        "    sns.countplot(ax=axes[1,1], data=df,x=x)\n",
        "    sns.countplot(ax=axes[1,2], data=df,x=x)\n",
        "\n",
        "plotting('x','y')"
      ],
      "execution_count": null,
      "outputs": []
    },
    {
      "cell_type": "markdown",
      "metadata": {
        "id": "AKreM_qW1-gq"
      },
      "source": [
        "### x dan y"
      ]
    },
    {
      "cell_type": "code",
      "metadata": {
        "id": "kcV2Td2EzWP_"
      },
      "source": [
        "x = df.drop(columns=[''] )\n",
        "y = df['']"
      ],
      "execution_count": null,
      "outputs": []
    },
    {
      "cell_type": "markdown",
      "metadata": {
        "id": "HoDekrY72D0G"
      },
      "source": [
        "### Splitting Data\n"
      ]
    },
    {
      "cell_type": "code",
      "metadata": {
        "id": "rE-MVyhM1Aof"
      },
      "source": [
        "def split_data(x,y,size):\n",
        "  global xTr,xTs,yTr,yTs\n",
        "  xTr,xTs,yTr,yTs = train_test_split(x,y, test_size=size)\n",
        "  return xTr.shape,xTs.shape,yTr.shape,yTs.shape\n",
        "\n",
        "split_data(x,y,size=30)"
      ],
      "execution_count": null,
      "outputs": []
    },
    {
      "cell_type": "markdown",
      "metadata": {
        "id": "q-hGlqMQl7Qd"
      },
      "source": [
        "### Preprocessing"
      ]
    },
    {
      "cell_type": "code",
      "metadata": {
        "id": "cVKN-JMKrMTc"
      },
      "source": [
        "xTr.columns"
      ],
      "execution_count": null,
      "outputs": []
    },
    {
      "cell_type": "code",
      "metadata": {
        "id": "6keWCY5zPml5"
      },
      "source": [
        "num_pip = Pipeline([\n",
        "                    (\"Impute\", SimpleImputer(strategy=\"mean\")),\n",
        "                    (\"Scale\", StandardScaler())\n",
        "\n",
        "                  ])\n",
        "\n",
        "cat_pip = Pipeline([\n",
        "                    (\"Impute\", SimpleImputer(strategy='most_frequent')),\n",
        "                    (\"OneHotEncode\", OneHotEncoder())\n",
        "\n",
        "                  ])\n",
        "\n",
        "preprocess = ColumnTransformer([\n",
        "                                (\"numerik\",num_pip,['']),\n",
        "                                (\"kategorik\",cat_pip,[''])\n",
        "\n",
        "                              ])\n",
        "\n",
        "pipeline = Pipeline([\n",
        "                     (\"prep\", preprocess),\n",
        "                     (\"model\", RandomForestClassifier(n_jobs=-1,verbose=2))\n",
        "\n",
        "                    ])"
      ],
      "execution_count": null,
      "outputs": []
    },
    {
      "cell_type": "markdown",
      "metadata": {
        "id": "QXZqeM-6pYjt"
      },
      "source": [
        "### Modeling\n"
      ]
    },
    {
      "cell_type": "code",
      "metadata": {
        "id": "bTUMUXgjnpSN"
      },
      "source": [
        "def modeling(xTr,yTr,xTs,yTs,model):\n",
        "  model.fit(xTr,yTr)\n",
        "  print(model.best_params_)\n",
        "  column = [[\"Validation Score\", model.best_score_],[\"Train Score\",model.score(xTr,yTr)],[\"Test Score\",model.score(xTs,yTs)]]\n",
        "  df = pd.DataFrame(column,columns=['Tipe','Hasil'])\n",
        "  if (model.score(xTr,yTr)) >= 0.95:\n",
        "    print(\"Overfitting\")\n",
        "  elif (model.score(xTr,yTr)) <= 0.65:\n",
        "    print(\"Underfitting\")\n",
        "  return df\n",
        "  "
      ],
      "execution_count": null,
      "outputs": []
    },
    {
      "cell_type": "code",
      "metadata": {
        "id": "2vrYVE9t7XEW"
      },
      "source": [
        "pipeline.get_params()"
      ],
      "execution_count": null,
      "outputs": []
    },
    {
      "cell_type": "code",
      "metadata": {
        "id": "uMiyoH10paeL"
      },
      "source": [
        "parameters = {\n",
        "    'model__max_depth':[3,5,10],\n",
        "    'model__n_estimators':[100,150,200]\n",
        "    }"
      ],
      "execution_count": null,
      "outputs": []
    },
    {
      "cell_type": "code",
      "metadata": {
        "id": "XP6xcZ6Uqey6"
      },
      "source": [
        "model = RandomizedSearchCV(pipeline,rsp.rf_params,cv=3,n_iter=50,n_jobs=-1,verbose=1)\n",
        "modeling(xTr,yTr,xTs,yTs,model)"
      ],
      "execution_count": null,
      "outputs": []
    },
    {
      "cell_type": "markdown",
      "metadata": {
        "id": "G5chpach2eJO"
      },
      "source": [
        "##Table Hasil Iterasi"
      ]
    },
    {
      "cell_type": "code",
      "metadata": {
        "id": "FAPEN6Ug2YCR"
      },
      "source": [
        "result = pd.DataFrame(model.cv_results_)"
      ],
      "execution_count": 2,
      "outputs": []
    },
    {
      "cell_type": "markdown",
      "metadata": {
        "id": "ZGBcI-Rn11Vy"
      },
      "source": [
        "##Plotting Iterasi"
      ]
    },
    {
      "cell_type": "code",
      "metadata": {
        "id": "BGvgeLmo17wV"
      },
      "source": [
        "def plot_cv_results(cv_results, param_x, param_z, metric='mean_test_score'):\n",
        "    \"\"\"\n",
        "    cv_results - cv_results_ attribute of a GridSearchCV instance (or similar)\n",
        "    param_x - name of grid search parameter to plot on x axis\n",
        "    param_z - name of grid search parameter to plot by line color\n",
        "    \"\"\"\n",
        "    cv_results = pd.DataFrame(cv_results)\n",
        "    col_x = 'param_' + param_x\n",
        "    col_z = 'param_' + param_z\n",
        "    fig, ax = plt.subplots(1, 1, figsize=(11, 8))\n",
        "    sns.pointplot(x=col_x, y=metric, hue=col_z, data=cv_results, ci=99, n_boot=64, ax=ax)\n",
        "    ax.set_title(\"CV Grid Search Results\")\n",
        "    ax.set_xlabel(param_x)\n",
        "    ax.set_ylabel(metric)\n",
        "    ax.legend(title=param_z)\n",
        "    return fig\n",
        "plot_cv_results(model.cv_results_,'N_Estimator','Gamma',)"
      ],
      "execution_count": null,
      "outputs": []
    },
    {
      "cell_type": "markdown",
      "metadata": {
        "id": "RlQonshCv47Q"
      },
      "source": [
        "### Evaluasi"
      ]
    },
    {
      "cell_type": "code",
      "metadata": {
        "id": "G7JajfXbqsd1"
      },
      "source": [
        "def plot_klasifikasi(xTr,yTr,xTs,yTs,model):\n",
        "    plot_confusion_matrix(xTr,yTr,xTs,yTs,model)\n",
        "    plot_pr_curve(xTr,yTr,xTs,yTs,model)\n",
        "    plot_roc_curve(xTr,yTr,xTs,yTs,model)\n",
        "plot_klasifikasi(xTr,yTr,xTs,yTs,model)"
      ],
      "execution_count": null,
      "outputs": []
    },
    {
      "cell_type": "code",
      "metadata": {
        "id": "kl19JHruz7W5"
      },
      "source": [
        "accuracy_score(xTs,yTs)"
      ],
      "execution_count": null,
      "outputs": []
    },
    {
      "cell_type": "markdown",
      "metadata": {
        "id": "NCEIpAVn50Af"
      },
      "source": [
        "### Feature Importance"
      ]
    },
    {
      "cell_type": "code",
      "metadata": {
        "id": "xk5v9fH6525i"
      },
      "source": [
        "df_imp = mean_score_decrease(xTr,yTr,model,plot=True,topk=10)"
      ],
      "execution_count": null,
      "outputs": []
    },
    {
      "cell_type": "markdown",
      "metadata": {
        "id": "7rGoo3u_EMti"
      },
      "source": [
        "### Binning"
      ]
    },
    {
      "cell_type": "code",
      "metadata": {
        "id": "Zv8Rsq8o6Ev7"
      },
      "source": [
        "xTr = pd.cut(xTr[''],bins=[],labels=[])"
      ],
      "execution_count": null,
      "outputs": []
    },
    {
      "cell_type": "markdown",
      "metadata": {
        "id": "DYXRzTiWEu3g"
      },
      "source": [
        "### EDA"
      ]
    },
    {
      "cell_type": "code",
      "metadata": {
        "id": "EJ4Z_C-0EswN"
      },
      "source": [
        "plot_association_matrix(df,yTr)"
      ],
      "execution_count": null,
      "outputs": []
    },
    {
      "cell_type": "code",
      "metadata": {
        "id": "7GVD1T2HE9u2"
      },
      "source": [
        "xTr.head()"
      ],
      "execution_count": null,
      "outputs": []
    },
    {
      "cell_type": "code",
      "metadata": {
        "id": "ppZ19rt6qF6R"
      },
      "source": [
        ""
      ],
      "execution_count": null,
      "outputs": []
    }
  ]
}